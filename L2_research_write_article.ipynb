{
 "cells": [
  {
   "cell_type": "markdown",
   "metadata": {},
   "source": [
    "You can download the `requirements.txt` for this course from the workspace of this lab. `File --> Open...`"
   ]
  },
  {
   "cell_type": "markdown",
   "metadata": {},
   "source": [
    "# L2: Create Agents to Research and Write an Article\n",
    "\n",
    "In this lesson, you will be introduced to the foundational concepts of multi-agent systems and get an overview of the crewAI framework."
   ]
  },
  {
   "cell_type": "markdown",
   "metadata": {},
   "source": [
    "The libraries are already installed in the classroom. If you're running this notebook on your own machine, you can install the following:\n",
    "```Python\n",
    "!pip install crewai==0.28.8 crewai_tools==0.1.6 langchain_community==0.0.29\n",
    "```"
   ]
  },
  {
   "cell_type": "code",
   "execution_count": 10,
   "metadata": {
    "height": 80
   },
   "outputs": [],
   "source": [
    "# Warning control\n",
    "import warnings\n",
    "warnings.filterwarnings('ignore')"
   ]
  },
  {
   "cell_type": "markdown",
   "metadata": {},
   "source": [
    "- Import from the crewAI libray."
   ]
  },
  {
   "cell_type": "code",
   "execution_count": 1,
   "metadata": {},
   "outputs": [],
   "source": [
    "from crewai import Agent, Task, Crew"
   ]
  },
  {
   "cell_type": "markdown",
   "metadata": {},
   "source": [
    "- As a LLM for your agents, you'll be using OpenAI's `gpt-3.5-turbo`.\n",
    "\n",
    "**Optional Note:** crewAI also allow other popular models to be used as a LLM for your Agents. You can see some of the examples at the [bottom of the notebook](#1)."
   ]
  },
  {
   "cell_type": "code",
   "execution_count": 30,
   "metadata": {
    "height": 114
   },
   "outputs": [],
   "source": [
    "import os\n",
    "from utils import get_openai_api_key\n",
    "\n",
    "openai_api_key = get_openai_api_key()\n",
    "os.environ[\"OPENAI_MODEL_NAME\"] = 'gpt-3.5-turbo'"
   ]
  },
  {
   "cell_type": "markdown",
   "metadata": {},
   "source": [
    "## Creating Agents\n",
    "\n",
    "- Define your Agents, and provide them a `role`, `goal` and `backstory`.\n",
    "- It has been seen that LLMs perform better when they are role playing."
   ]
  },
  {
   "cell_type": "markdown",
   "metadata": {},
   "source": [
    "### Agent: Planner\n",
    "\n",
    "**Note**: The benefit of using _multiple strings_ :\n",
    "```Python\n",
    "varname = \"line 1 of text\"\n",
    "          \"line 2 of text\"\n",
    "```\n",
    "\n",
    "versus the _triple quote docstring_:\n",
    "```Python\n",
    "varname = \"\"\"line 1 of text\n",
    "             line 2 of text\n",
    "          \"\"\"\n",
    "```\n",
    "is that it can avoid adding those whitespaces and newline characters, making it better formatted to be passed to the LLM."
   ]
  },
  {
   "cell_type": "code",
   "execution_count": 32,
   "metadata": {
    "height": 250
   },
   "outputs": [],
   "source": [
    "planner = Agent(\n",
    "    role=\"Content Planner\",\n",
    "    goal=\"Plan engaging and factually accurate content on {topic}\",\n",
    "    backstory=\"You're working on planning a blog article \"\n",
    "              \"about the topic: {topic}.\"\n",
    "              \"You collect information that helps the \"\n",
    "              \"audience learn something \"\n",
    "              \"and make informed decisions. \"\n",
    "              \"Your work is the basis for \"\n",
    "              \"the Content Writer to write an article on this topic.\",\n",
    "    allow_delegation=False,\n",
    "\tverbose=True\n",
    ")"
   ]
  },
  {
   "cell_type": "markdown",
   "metadata": {},
   "source": [
    "### Agent: Writer"
   ]
  },
  {
   "cell_type": "code",
   "execution_count": 34,
   "metadata": {
    "height": 386
   },
   "outputs": [],
   "source": [
    "writer = Agent(\n",
    "    role=\"Content Writer\",\n",
    "    goal=\"Write insightful and factually accurate \"\n",
    "         \"opinion piece about the topic: {topic}\",\n",
    "    backstory=\"You're working on a writing \"\n",
    "              \"a new opinion piece about the topic: {topic}. \"\n",
    "              \"You base your writing on the work of \"\n",
    "              \"the Content Planner, who provides an outline \"\n",
    "              \"and relevant context about the topic. \"\n",
    "              \"You follow the main objectives and \"\n",
    "              \"direction of the outline, \"\n",
    "              \"as provide by the Content Planner. \"\n",
    "              \"You also provide objective and impartial insights \"\n",
    "              \"and back them up with information \"\n",
    "              \"provide by the Content Planner. \"\n",
    "              \"You acknowledge in your opinion piece \"\n",
    "              \"when your statements are opinions \"\n",
    "              \"as opposed to objective statements.\",\n",
    "    allow_delegation=False,\n",
    "    verbose=True\n",
    ")"
   ]
  },
  {
   "cell_type": "markdown",
   "metadata": {},
   "source": [
    "### Agent: Editor"
   ]
  },
  {
   "cell_type": "code",
   "execution_count": 36,
   "metadata": {
    "height": 284
   },
   "outputs": [],
   "source": [
    "editor = Agent(\n",
    "    role=\"Editor\",\n",
    "    goal=\"Edit a given blog post to align with \"\n",
    "         \"the writing style of the organization. \",\n",
    "    backstory=\"You are an editor who receives a blog post \"\n",
    "              \"from the Content Writer. \"\n",
    "              \"Your goal is to review the blog post \"\n",
    "              \"to ensure that it follows journalistic best practices,\"\n",
    "              \"provides balanced viewpoints \"\n",
    "              \"when providing opinions or assertions, \"\n",
    "              \"and also avoids major controversial topics \"\n",
    "              \"or opinions when possible.\",\n",
    "    allow_delegation=False,\n",
    "    verbose=True\n",
    ")"
   ]
  },
  {
   "cell_type": "markdown",
   "metadata": {},
   "source": [
    "## Creating Tasks\n",
    "\n",
    "- Define your Tasks, and provide them a `description`, `expected_output` and `agent`."
   ]
  },
  {
   "cell_type": "markdown",
   "metadata": {},
   "source": [
    "### Task: Plan"
   ]
  },
  {
   "cell_type": "code",
   "execution_count": 38,
   "metadata": {
    "height": 284
   },
   "outputs": [],
   "source": [
    "plan = Task(\n",
    "    description=(\n",
    "        \"1. Prioritize the latest trends, key players, \"\n",
    "            \"and noteworthy news on {topic}.\\n\"\n",
    "        \"2. Identify the target audience, considering \"\n",
    "            \"their interests and pain points.\\n\"\n",
    "        \"3. Develop a detailed content outline including \"\n",
    "            \"an introduction, key points, and a call to action.\\n\"\n",
    "        \"4. Include SEO keywords and relevant data or sources.\"\n",
    "    ),\n",
    "    expected_output=\"A comprehensive content plan document \"\n",
    "        \"with an outline, audience analysis, \"\n",
    "        \"SEO keywords, and resources.\",\n",
    "    agent=planner,\n",
    ")"
   ]
  },
  {
   "cell_type": "markdown",
   "metadata": {},
   "source": [
    "### Task: Write"
   ]
  },
  {
   "cell_type": "code",
   "execution_count": 40,
   "metadata": {
    "height": 335
   },
   "outputs": [],
   "source": [
    "write = Task(\n",
    "    description=(\n",
    "        \"1. Use the content plan to craft a compelling \"\n",
    "            \"blog post on {topic}.\\n\"\n",
    "        \"2. Incorporate SEO keywords naturally.\\n\"\n",
    "\t\t\"3. Sections/Subtitles are properly named \"\n",
    "            \"in an engaging manner.\\n\"\n",
    "        \"4. Ensure the post is structured with an \"\n",
    "            \"engaging introduction, insightful body, \"\n",
    "            \"and a summarizing conclusion.\\n\"\n",
    "        \"5. Proofread for grammatical errors and \"\n",
    "            \"alignment with the brand's voice.\\n\"\n",
    "    ),\n",
    "    expected_output=\"A well-written blog post \"\n",
    "        \"in markdown format, ready for publication, \"\n",
    "        \"each section should have 2 or 3 paragraphs.\",\n",
    "    agent=writer,\n",
    ")"
   ]
  },
  {
   "cell_type": "markdown",
   "metadata": {},
   "source": [
    "### Task: Edit"
   ]
  },
  {
   "cell_type": "code",
   "execution_count": 42,
   "metadata": {
    "height": 182
   },
   "outputs": [],
   "source": [
    "edit = Task(\n",
    "    description=(\"Proofread the given blog post for \"\n",
    "                 \"grammatical errors and \"\n",
    "                 \"alignment with the brand's voice.\"),\n",
    "    expected_output=\"A well-written blog post in markdown format, \"\n",
    "                    \"ready for publication, \"\n",
    "                    \"each section should have 2 or 3 paragraphs.\",\n",
    "    agent=editor\n",
    ")"
   ]
  },
  {
   "cell_type": "markdown",
   "metadata": {},
   "source": [
    "## Creating the Crew\n",
    "\n",
    "- Create your crew of Agents\n",
    "- Pass the tasks to be performed by those agents.\n",
    "    - **Note**: *For this simple example*, the tasks will be performed sequentially (i.e they are dependent on each other), so the _order_ of the task in the list _matters_.\n",
    "- `verbose=2` allows you to see all the logs of the execution. "
   ]
  },
  {
   "cell_type": "code",
   "execution_count": 43,
   "metadata": {
    "height": 114
   },
   "outputs": [
    {
     "name": "stderr",
     "output_type": "stream",
     "text": [
      "2024-05-30 18:16:00,842 - 30608 - __init__.py-__init__:518 - WARNING: Overriding of current TracerProvider is not allowed\n"
     ]
    }
   ],
   "source": [
    "crew = Crew(\n",
    "    agents=[planner, writer, editor],\n",
    "    tasks=[plan, write, edit],\n",
    "    verbose=2\n",
    ")"
   ]
  },
  {
   "cell_type": "markdown",
   "metadata": {},
   "source": [
    "## Running the Crew"
   ]
  },
  {
   "cell_type": "markdown",
   "metadata": {},
   "source": [
    "**Note**: LLMs can provide different outputs for they same input, so what you get might be different than what you see in the video."
   ]
  },
  {
   "cell_type": "code",
   "execution_count": 44,
   "metadata": {
    "height": 46
   },
   "outputs": [
    {
     "name": "stdout",
     "output_type": "stream",
     "text": [
      "\u001b[1m\u001b[95m [DEBUG]: == Working Agent: Content Planner\u001b[00m\n",
      "\u001b[1m\u001b[95m [INFO]: == Starting Task: 1. Prioritize the latest trends, key players, and noteworthy news on Artificial Intelligence.\n",
      "2. Identify the target audience, considering their interests and pain points.\n",
      "3. Develop a detailed content outline including an introduction, key points, and a call to action.\n",
      "4. Include SEO keywords and relevant data or sources.\u001b[00m\n",
      "\n",
      "\n",
      "\u001b[1m> Entering new CrewAgentExecutor chain...\u001b[0m\n",
      "\u001b[32;1m\u001b[1;3mI now can give a great answer\n",
      "\n",
      "Final Answer: \n",
      "\n",
      "Content Plan: \n",
      "Topic: Artificial Intelligence\n",
      "\n",
      "Outline:\n",
      "I. Introduction\n",
      "- Definition of Artificial Intelligence\n",
      "- Brief history and evolution of AI\n",
      "- Importance and impact of AI in various industries\n",
      "\n",
      "II. Latest Trends in Artificial Intelligence\n",
      "- Machine learning and deep learning advancements\n",
      "- Natural language processing and chatbots\n",
      "- Autonomous vehicles and robotics\n",
      "- AI in healthcare and personalized medicine\n",
      "- Ethical considerations in AI development\n",
      "\n",
      "III. Key Players in Artificial Intelligence\n",
      "- Leading companies in AI research and development (e.g. Google, IBM, Amazon)\n",
      "- Notable AI researchers and influencers (e.g. Andrew Ng, Yoshua Bengio)\n",
      "- Emerging startups and innovations in the AI space\n",
      "\n",
      "IV. Noteworthy News in Artificial Intelligence\n",
      "- Recent breakthroughs in AI technology\n",
      "- AI applications in solving real-world problems\n",
      "- Regulatory updates and policy developments in AI\n",
      "\n",
      "V. Target Audience Analysis\n",
      "- Professionals in the tech industry interested in AI advancements\n",
      "- Business leaders looking to integrate AI into their operations\n",
      "- Students and researchers exploring AI for academic purposes\n",
      "- General audience curious about the future of AI and its implications\n",
      "\n",
      "VI. SEO Keywords\n",
      "- Artificial Intelligence trends\n",
      "- Key players in AI industry\n",
      "- Latest AI news\n",
      "- Artificial Intelligence impact\n",
      "- Future of Artificial Intelligence\n",
      "\n",
      "VII. Resources\n",
      "1. \"Artificial Intelligence: A Modern Approach\" by Stuart Russell and Peter Norvig\n",
      "2. \"Deep Learning\" by Ian Goodfellow, Yoshua Bengio, and Aaron Courville\n",
      "3. Forbes AI section\n",
      "4. MIT Technology Review AI articles\n",
      "5. OpenAI research papers\n",
      "\n",
      "Call to Action: \n",
      "Stay informed about the latest trends and developments in Artificial Intelligence by following reputable sources and engaging in discussions with industry experts. Embrace the opportunities AI presents while remaining conscious of the ethical considerations and societal impacts of AI technologies.\u001b[0m\n",
      "\n",
      "\u001b[1m> Finished chain.\u001b[0m\n",
      "\u001b[1m\u001b[92m [DEBUG]: == [Content Planner] Task output: Content Plan: \n",
      "Topic: Artificial Intelligence\n",
      "\n",
      "Outline:\n",
      "I. Introduction\n",
      "- Definition of Artificial Intelligence\n",
      "- Brief history and evolution of AI\n",
      "- Importance and impact of AI in various industries\n",
      "\n",
      "II. Latest Trends in Artificial Intelligence\n",
      "- Machine learning and deep learning advancements\n",
      "- Natural language processing and chatbots\n",
      "- Autonomous vehicles and robotics\n",
      "- AI in healthcare and personalized medicine\n",
      "- Ethical considerations in AI development\n",
      "\n",
      "III. Key Players in Artificial Intelligence\n",
      "- Leading companies in AI research and development (e.g. Google, IBM, Amazon)\n",
      "- Notable AI researchers and influencers (e.g. Andrew Ng, Yoshua Bengio)\n",
      "- Emerging startups and innovations in the AI space\n",
      "\n",
      "IV. Noteworthy News in Artificial Intelligence\n",
      "- Recent breakthroughs in AI technology\n",
      "- AI applications in solving real-world problems\n",
      "- Regulatory updates and policy developments in AI\n",
      "\n",
      "V. Target Audience Analysis\n",
      "- Professionals in the tech industry interested in AI advancements\n",
      "- Business leaders looking to integrate AI into their operations\n",
      "- Students and researchers exploring AI for academic purposes\n",
      "- General audience curious about the future of AI and its implications\n",
      "\n",
      "VI. SEO Keywords\n",
      "- Artificial Intelligence trends\n",
      "- Key players in AI industry\n",
      "- Latest AI news\n",
      "- Artificial Intelligence impact\n",
      "- Future of Artificial Intelligence\n",
      "\n",
      "VII. Resources\n",
      "1. \"Artificial Intelligence: A Modern Approach\" by Stuart Russell and Peter Norvig\n",
      "2. \"Deep Learning\" by Ian Goodfellow, Yoshua Bengio, and Aaron Courville\n",
      "3. Forbes AI section\n",
      "4. MIT Technology Review AI articles\n",
      "5. OpenAI research papers\n",
      "\n",
      "Call to Action: \n",
      "Stay informed about the latest trends and developments in Artificial Intelligence by following reputable sources and engaging in discussions with industry experts. Embrace the opportunities AI presents while remaining conscious of the ethical considerations and societal impacts of AI technologies.\n",
      "\n",
      "\u001b[00m\n",
      "\u001b[1m\u001b[95m [DEBUG]: == Working Agent: Content Writer\u001b[00m\n",
      "\u001b[1m\u001b[95m [INFO]: == Starting Task: 1. Use the content plan to craft a compelling blog post on Artificial Intelligence.\n",
      "2. Incorporate SEO keywords naturally.\n",
      "3. Sections/Subtitles are properly named in an engaging manner.\n",
      "4. Ensure the post is structured with an engaging introduction, insightful body, and a summarizing conclusion.\n",
      "5. Proofread for grammatical errors and alignment with the brand's voice.\n",
      "\u001b[00m\n",
      "\n",
      "\n",
      "\u001b[1m> Entering new CrewAgentExecutor chain...\u001b[0m\n",
      "\u001b[32;1m\u001b[1;3mI am excited to dive into the topic of Artificial Intelligence and provide valuable insights based on the content plan provided. It's crucial to cover the key points outlined and deliver a well-structured and engaging blog post that will resonate with the target audience.\n",
      "\n",
      "Final Answer:\n",
      "\n",
      "# Artificial Intelligence: Revolutionizing Industries and Shaping the Future\n",
      "\n",
      "## Introduction\n",
      "\n",
      "Artificial Intelligence (AI) has become a buzzword in today's technological landscape, but what exactly is AI? In simple terms, AI refers to the simulation of human intelligence processes by machines, particularly computer systems. The concept of AI dates back to the 1950s, and over the years, it has evolved significantly, leading to groundbreaking advancements in various industries. The impact of AI is profound, with the potential to transform the way we live and work.\n",
      "\n",
      "## Latest Trends in Artificial Intelligence\n",
      "\n",
      "One of the most exciting trends in AI is the rapid development of machine learning and deep learning algorithms. These technologies have enabled computers to learn from data and make intelligent decisions without human intervention. Natural language processing and chatbots have also gained popularity, revolutionizing customer service and communication. Autonomous vehicles and robotics are another area where AI is making significant strides, with the promise of safer and more efficient transportation systems. In healthcare, AI is being used to personalize medicine and improve patient outcomes. However, as AI continues to advance, ethical considerations in its development and deployment are becoming increasingly important.\n",
      "\n",
      "## Key Players in Artificial Intelligence\n",
      "\n",
      "Leading companies such as Google, IBM, and Amazon are at the forefront of AI research and development, constantly pushing the boundaries of what is possible. Notable researchers and influencers like Andrew Ng and Yoshua Bengio have made significant contributions to the field, shaping the future of AI. In addition to established players, emerging startups and innovations are also making waves in the AI space, bringing fresh ideas and perspectives to the table.\n",
      "\n",
      "## Noteworthy News in Artificial Intelligence\n",
      "\n",
      "Recent breakthroughs in AI technology have captured the attention of the global community, with applications ranging from solving complex real-world problems to enhancing daily experiences. Regulatory updates and policy developments are also shaping the future of AI, ensuring that ethical standards are met and societal impacts are considered.\n",
      "\n",
      "## Conclusion\n",
      "\n",
      "Artificial Intelligence is a powerful force that is reshaping industries and driving innovation across the board. As we navigate this exciting technological landscape, it is important to stay informed about the latest trends and developments in AI. By following reputable sources and engaging with industry experts, we can embrace the opportunities that AI presents while remaining conscious of the ethical considerations and societal impacts of AI technologies.\n",
      "\n",
      "**Call to Action:** Stay informed about the latest trends and developments in Artificial Intelligence by following reputable sources and engaging in discussions with industry experts. Embrace the opportunities AI presents while remaining conscious of the ethical considerations and societal impacts of AI technologies.\u001b[0m\n",
      "\n",
      "\u001b[1m> Finished chain.\u001b[0m\n",
      "\u001b[1m\u001b[92m [DEBUG]: == [Content Writer] Task output: # Artificial Intelligence: Revolutionizing Industries and Shaping the Future\n",
      "\n",
      "## Introduction\n",
      "\n",
      "Artificial Intelligence (AI) has become a buzzword in today's technological landscape, but what exactly is AI? In simple terms, AI refers to the simulation of human intelligence processes by machines, particularly computer systems. The concept of AI dates back to the 1950s, and over the years, it has evolved significantly, leading to groundbreaking advancements in various industries. The impact of AI is profound, with the potential to transform the way we live and work.\n",
      "\n",
      "## Latest Trends in Artificial Intelligence\n",
      "\n",
      "One of the most exciting trends in AI is the rapid development of machine learning and deep learning algorithms. These technologies have enabled computers to learn from data and make intelligent decisions without human intervention. Natural language processing and chatbots have also gained popularity, revolutionizing customer service and communication. Autonomous vehicles and robotics are another area where AI is making significant strides, with the promise of safer and more efficient transportation systems. In healthcare, AI is being used to personalize medicine and improve patient outcomes. However, as AI continues to advance, ethical considerations in its development and deployment are becoming increasingly important.\n",
      "\n",
      "## Key Players in Artificial Intelligence\n",
      "\n",
      "Leading companies such as Google, IBM, and Amazon are at the forefront of AI research and development, constantly pushing the boundaries of what is possible. Notable researchers and influencers like Andrew Ng and Yoshua Bengio have made significant contributions to the field, shaping the future of AI. In addition to established players, emerging startups and innovations are also making waves in the AI space, bringing fresh ideas and perspectives to the table.\n",
      "\n",
      "## Noteworthy News in Artificial Intelligence\n",
      "\n",
      "Recent breakthroughs in AI technology have captured the attention of the global community, with applications ranging from solving complex real-world problems to enhancing daily experiences. Regulatory updates and policy developments are also shaping the future of AI, ensuring that ethical standards are met and societal impacts are considered.\n",
      "\n",
      "## Conclusion\n",
      "\n",
      "Artificial Intelligence is a powerful force that is reshaping industries and driving innovation across the board. As we navigate this exciting technological landscape, it is important to stay informed about the latest trends and developments in AI. By following reputable sources and engaging with industry experts, we can embrace the opportunities that AI presents while remaining conscious of the ethical considerations and societal impacts of AI technologies.\n",
      "\n",
      "**Call to Action:** Stay informed about the latest trends and developments in Artificial Intelligence by following reputable sources and engaging in discussions with industry experts. Embrace the opportunities AI presents while remaining conscious of the ethical considerations and societal impacts of AI technologies.\n",
      "\n",
      "\u001b[00m\n",
      "\u001b[1m\u001b[95m [DEBUG]: == Working Agent: Editor\u001b[00m\n",
      "\u001b[1m\u001b[95m [INFO]: == Starting Task: Proofread the given blog post for grammatical errors and alignment with the brand's voice.\u001b[00m\n",
      "\n",
      "\n",
      "\u001b[1m> Entering new CrewAgentExecutor chain...\u001b[0m\n",
      "\u001b[32;1m\u001b[1;3mI now can give a great answer\n",
      "\n",
      "Final Answer: \n",
      "\n",
      "# Artificial Intelligence: Revolutionizing Industries and Shaping the Future\n",
      "\n",
      "## Introduction\n",
      "\n",
      "Artificial Intelligence (AI) has become a prominent topic in today's technological landscape, with its roots dating back to the 1950s. AI involves the simulation of human intelligence processes by machines, particularly computer systems, and has evolved significantly over the years. The impact of AI is profound, with the potential to revolutionize various industries and change the way we live and work.\n",
      "\n",
      "## Latest Trends in Artificial Intelligence\n",
      "\n",
      "A key trend in AI is the rapid development of machine learning and deep learning algorithms, enabling computers to learn from data and make intelligent decisions autonomously. Natural language processing and chatbots have also gained popularity, transforming customer service and communication channels. Furthermore, advancements in autonomous vehicles and robotics promise safer and more efficient transportation systems. In healthcare, AI is being leveraged to personalize medicine and enhance patient outcomes, highlighting the diverse applications of AI across industries. However, ethical considerations in AI development and deployment are becoming increasingly crucial as the technology progresses.\n",
      "\n",
      "## Key Players in Artificial Intelligence\n",
      "\n",
      "Leading companies like Google, IBM, and Amazon are driving AI research and development, pushing the boundaries of innovation. Influential figures such as Andrew Ng and Yoshua Bengio have significantly contributed to shaping the future of AI. Additionally, emerging startups and innovations are bringing fresh perspectives and ideas to the AI landscape, fostering a dynamic and diverse environment for technological advancements.\n",
      "\n",
      "## Noteworthy News in Artificial Intelligence\n",
      "\n",
      "Recent breakthroughs in AI technology have garnered global attention, showcasing the vast potential of AI in solving complex real-world problems and enhancing daily experiences. Regulatory updates and policy developments play a critical role in shaping the future of AI, ensuring ethical standards are upheld and societal impacts are carefully considered.\n",
      "\n",
      "## Conclusion\n",
      "\n",
      "Artificial Intelligence stands as a transformative force, reshaping industries and fostering innovation on a global scale. To navigate this dynamic technological landscape effectively, it is crucial to stay informed about the latest trends and developments in AI. By engaging with reputable sources and industry experts, we can embrace the opportunities presented by AI while remaining mindful of the ethical implications and societal impacts of AI technologies.\n",
      "\n",
      "**Call to Action:** Stay informed about the latest trends and developments in Artificial Intelligence by following reputable sources and engaging in discussions with industry experts. Embrace the opportunities AI presents while remaining conscious of the ethical considerations and societal impacts of AI technologies.\u001b[0m\n",
      "\n",
      "\u001b[1m> Finished chain.\u001b[0m\n",
      "\u001b[1m\u001b[92m [DEBUG]: == [Editor] Task output: # Artificial Intelligence: Revolutionizing Industries and Shaping the Future\n",
      "\n",
      "## Introduction\n",
      "\n",
      "Artificial Intelligence (AI) has become a prominent topic in today's technological landscape, with its roots dating back to the 1950s. AI involves the simulation of human intelligence processes by machines, particularly computer systems, and has evolved significantly over the years. The impact of AI is profound, with the potential to revolutionize various industries and change the way we live and work.\n",
      "\n",
      "## Latest Trends in Artificial Intelligence\n",
      "\n",
      "A key trend in AI is the rapid development of machine learning and deep learning algorithms, enabling computers to learn from data and make intelligent decisions autonomously. Natural language processing and chatbots have also gained popularity, transforming customer service and communication channels. Furthermore, advancements in autonomous vehicles and robotics promise safer and more efficient transportation systems. In healthcare, AI is being leveraged to personalize medicine and enhance patient outcomes, highlighting the diverse applications of AI across industries. However, ethical considerations in AI development and deployment are becoming increasingly crucial as the technology progresses.\n",
      "\n",
      "## Key Players in Artificial Intelligence\n",
      "\n",
      "Leading companies like Google, IBM, and Amazon are driving AI research and development, pushing the boundaries of innovation. Influential figures such as Andrew Ng and Yoshua Bengio have significantly contributed to shaping the future of AI. Additionally, emerging startups and innovations are bringing fresh perspectives and ideas to the AI landscape, fostering a dynamic and diverse environment for technological advancements.\n",
      "\n",
      "## Noteworthy News in Artificial Intelligence\n",
      "\n",
      "Recent breakthroughs in AI technology have garnered global attention, showcasing the vast potential of AI in solving complex real-world problems and enhancing daily experiences. Regulatory updates and policy developments play a critical role in shaping the future of AI, ensuring ethical standards are upheld and societal impacts are carefully considered.\n",
      "\n",
      "## Conclusion\n",
      "\n",
      "Artificial Intelligence stands as a transformative force, reshaping industries and fostering innovation on a global scale. To navigate this dynamic technological landscape effectively, it is crucial to stay informed about the latest trends and developments in AI. By engaging with reputable sources and industry experts, we can embrace the opportunities presented by AI while remaining mindful of the ethical implications and societal impacts of AI technologies.\n",
      "\n",
      "**Call to Action:** Stay informed about the latest trends and developments in Artificial Intelligence by following reputable sources and engaging in discussions with industry experts. Embrace the opportunities AI presents while remaining conscious of the ethical considerations and societal impacts of AI technologies.\n",
      "\n",
      "\u001b[00m\n"
     ]
    }
   ],
   "source": [
    "result = crew.kickoff(inputs={\"topic\": \"Artificial Intelligence\"})"
   ]
  },
  {
   "cell_type": "markdown",
   "metadata": {},
   "source": [
    "- Display the results of your execution as markdown in the notebook."
   ]
  },
  {
   "cell_type": "code",
   "execution_count": 45,
   "metadata": {
    "height": 63
   },
   "outputs": [
    {
     "data": {
      "text/markdown": [
       "# Artificial Intelligence: Revolutionizing Industries and Shaping the Future\n",
       "\n",
       "## Introduction\n",
       "\n",
       "Artificial Intelligence (AI) has become a prominent topic in today's technological landscape, with its roots dating back to the 1950s. AI involves the simulation of human intelligence processes by machines, particularly computer systems, and has evolved significantly over the years. The impact of AI is profound, with the potential to revolutionize various industries and change the way we live and work.\n",
       "\n",
       "## Latest Trends in Artificial Intelligence\n",
       "\n",
       "A key trend in AI is the rapid development of machine learning and deep learning algorithms, enabling computers to learn from data and make intelligent decisions autonomously. Natural language processing and chatbots have also gained popularity, transforming customer service and communication channels. Furthermore, advancements in autonomous vehicles and robotics promise safer and more efficient transportation systems. In healthcare, AI is being leveraged to personalize medicine and enhance patient outcomes, highlighting the diverse applications of AI across industries. However, ethical considerations in AI development and deployment are becoming increasingly crucial as the technology progresses.\n",
       "\n",
       "## Key Players in Artificial Intelligence\n",
       "\n",
       "Leading companies like Google, IBM, and Amazon are driving AI research and development, pushing the boundaries of innovation. Influential figures such as Andrew Ng and Yoshua Bengio have significantly contributed to shaping the future of AI. Additionally, emerging startups and innovations are bringing fresh perspectives and ideas to the AI landscape, fostering a dynamic and diverse environment for technological advancements.\n",
       "\n",
       "## Noteworthy News in Artificial Intelligence\n",
       "\n",
       "Recent breakthroughs in AI technology have garnered global attention, showcasing the vast potential of AI in solving complex real-world problems and enhancing daily experiences. Regulatory updates and policy developments play a critical role in shaping the future of AI, ensuring ethical standards are upheld and societal impacts are carefully considered.\n",
       "\n",
       "## Conclusion\n",
       "\n",
       "Artificial Intelligence stands as a transformative force, reshaping industries and fostering innovation on a global scale. To navigate this dynamic technological landscape effectively, it is crucial to stay informed about the latest trends and developments in AI. By engaging with reputable sources and industry experts, we can embrace the opportunities presented by AI while remaining mindful of the ethical implications and societal impacts of AI technologies.\n",
       "\n",
       "**Call to Action:** Stay informed about the latest trends and developments in Artificial Intelligence by following reputable sources and engaging in discussions with industry experts. Embrace the opportunities AI presents while remaining conscious of the ethical considerations and societal impacts of AI technologies."
      ],
      "text/plain": [
       "<IPython.core.display.Markdown object>"
      ]
     },
     "execution_count": 45,
     "metadata": {},
     "output_type": "execute_result"
    }
   ],
   "source": [
    "from IPython.display import Markdown\n",
    "Markdown(result)"
   ]
  },
  {
   "cell_type": "markdown",
   "metadata": {},
   "source": [
    "## Try it Yourself\n",
    "\n",
    "- Pass in a topic of your choice and see what the agents come up with!"
   ]
  },
  {
   "cell_type": "code",
   "execution_count": 46,
   "metadata": {
    "height": 63
   },
   "outputs": [
    {
     "name": "stdout",
     "output_type": "stream",
     "text": [
      "\u001b[1m\u001b[95m [DEBUG]: == Working Agent: Content Planner\u001b[00m\n",
      "\u001b[1m\u001b[95m [INFO]: == Starting Task: 1. Prioritize the latest trends, key players, and noteworthy news on NIS 2.0 in Germany.\n",
      "2. Identify the target audience, considering their interests and pain points.\n",
      "3. Develop a detailed content outline including an introduction, key points, and a call to action.\n",
      "4. Include SEO keywords and relevant data or sources.\u001b[00m\n",
      "\n",
      "\n",
      "\u001b[1m> Entering new CrewAgentExecutor chain...\u001b[0m\n",
      "\u001b[32;1m\u001b[1;3mI now can give a great answer\n",
      "\n",
      "Final Answer: \n",
      "\n",
      "Content Plan Document\n",
      "\n",
      "Topic: NIS 2.0 in Germany\n",
      "\n",
      "Outline:\n",
      "I. Introduction\n",
      "- Brief overview of NIS 2.0 and its significance in Germany\n",
      "- Mention of key players and latest trends in the field\n",
      "\n",
      "II. Latest Trends in NIS 2.0 in Germany\n",
      "- Increased focus on cybersecurity measures\n",
      "- Emphasis on data protection and privacy regulations\n",
      "- Integration of AI and machine learning technologies\n",
      "\n",
      "III. Key Players in NIS 2.0 in Germany\n",
      "- Federal Office for Information Security (BSI)\n",
      "- Cybersecurity companies such as Siemens and Deutsche Telekom\n",
      "- Collaboration with EU agencies and international partners\n",
      "\n",
      "IV. Noteworthy News on NIS 2.0 in Germany\n",
      "- Recent data breaches and cyber attacks\n",
      "- Updates on regulatory frameworks and compliance requirements\n",
      "- Success stories of organizations implementing NIS 2.0 measures\n",
      "\n",
      "V. Target Audience Analysis\n",
      "- Cybersecurity professionals and IT experts\n",
      "- Government officials and policymakers\n",
      "- Business owners and decision-makers in various industries\n",
      "\n",
      "VI. SEO Keywords:\n",
      "- NIS 2.0 Germany\n",
      "- Cybersecurity trends\n",
      "- Data protection regulations\n",
      "- Cyber attacks prevention\n",
      "- BSI updates\n",
      "\n",
      "VII. Call to Action\n",
      "- Encourage readers to stay informed about NIS 2.0 developments\n",
      "- Promote cybersecurity training and awareness programs\n",
      "- Provide resources for implementing NIS 2.0 measures effectively\n",
      "\n",
      "Resources:\n",
      "1. Federal Office for Information Security (BSI) website\n",
      "2. Cybersecurity news websites such as CyberScoop and Dark Reading\n",
      "3. Reports and publications from EU agencies on NIS 2.0 implementation\n",
      "4. Industry-specific case studies and success stories related to cybersecurity measures\n",
      "5. SEO tools for keyword research and optimization\n",
      "\n",
      "By following this comprehensive content plan, the blog article on NIS 2.0 in Germany will be engaging, informative, and relevant to the target audience. It will provide valuable insights into the latest trends, key players, and noteworthy news in the field, empowering readers to make informed decisions and take proactive steps towards enhancing cybersecurity measures in Germany.\u001b[0m\n",
      "\n",
      "\u001b[1m> Finished chain.\u001b[0m\n",
      "\u001b[1m\u001b[92m [DEBUG]: == [Content Planner] Task output: Content Plan Document\n",
      "\n",
      "Topic: NIS 2.0 in Germany\n",
      "\n",
      "Outline:\n",
      "I. Introduction\n",
      "- Brief overview of NIS 2.0 and its significance in Germany\n",
      "- Mention of key players and latest trends in the field\n",
      "\n",
      "II. Latest Trends in NIS 2.0 in Germany\n",
      "- Increased focus on cybersecurity measures\n",
      "- Emphasis on data protection and privacy regulations\n",
      "- Integration of AI and machine learning technologies\n",
      "\n",
      "III. Key Players in NIS 2.0 in Germany\n",
      "- Federal Office for Information Security (BSI)\n",
      "- Cybersecurity companies such as Siemens and Deutsche Telekom\n",
      "- Collaboration with EU agencies and international partners\n",
      "\n",
      "IV. Noteworthy News on NIS 2.0 in Germany\n",
      "- Recent data breaches and cyber attacks\n",
      "- Updates on regulatory frameworks and compliance requirements\n",
      "- Success stories of organizations implementing NIS 2.0 measures\n",
      "\n",
      "V. Target Audience Analysis\n",
      "- Cybersecurity professionals and IT experts\n",
      "- Government officials and policymakers\n",
      "- Business owners and decision-makers in various industries\n",
      "\n",
      "VI. SEO Keywords:\n",
      "- NIS 2.0 Germany\n",
      "- Cybersecurity trends\n",
      "- Data protection regulations\n",
      "- Cyber attacks prevention\n",
      "- BSI updates\n",
      "\n",
      "VII. Call to Action\n",
      "- Encourage readers to stay informed about NIS 2.0 developments\n",
      "- Promote cybersecurity training and awareness programs\n",
      "- Provide resources for implementing NIS 2.0 measures effectively\n",
      "\n",
      "Resources:\n",
      "1. Federal Office for Information Security (BSI) website\n",
      "2. Cybersecurity news websites such as CyberScoop and Dark Reading\n",
      "3. Reports and publications from EU agencies on NIS 2.0 implementation\n",
      "4. Industry-specific case studies and success stories related to cybersecurity measures\n",
      "5. SEO tools for keyword research and optimization\n",
      "\n",
      "By following this comprehensive content plan, the blog article on NIS 2.0 in Germany will be engaging, informative, and relevant to the target audience. It will provide valuable insights into the latest trends, key players, and noteworthy news in the field, empowering readers to make informed decisions and take proactive steps towards enhancing cybersecurity measures in Germany.\n",
      "\n",
      "\u001b[00m\n",
      "\u001b[1m\u001b[95m [DEBUG]: == Working Agent: Content Writer\u001b[00m\n",
      "\u001b[1m\u001b[95m [INFO]: == Starting Task: 1. Use the content plan to craft a compelling blog post on NIS 2.0 in Germany.\n",
      "2. Incorporate SEO keywords naturally.\n",
      "3. Sections/Subtitles are properly named in an engaging manner.\n",
      "4. Ensure the post is structured with an engaging introduction, insightful body, and a summarizing conclusion.\n",
      "5. Proofread for grammatical errors and alignment with the brand's voice.\n",
      "\u001b[00m\n",
      "\n",
      "\n",
      "\u001b[1m> Entering new CrewAgentExecutor chain...\u001b[0m\n",
      "\u001b[32;1m\u001b[1;3mI now can give a great answer.\n",
      "\n",
      "Final Answer:\n",
      "\n",
      "# NIS 2.0 in Germany: Enhancing Cybersecurity Measures\n",
      "\n",
      "## Introduction\n",
      "\n",
      "In Germany, the National Information Security Strategy (NIS) 2.0 plays a crucial role in safeguarding critical infrastructure and digital assets against cyber threats. With the increasing reliance on digital technologies, the significance of NIS 2.0 cannot be overstated. Key players in this field, including the Federal Office for Information Security (BSI), are working diligently to address the latest trends and challenges in cybersecurity. The integration of AI and machine learning technologies has become a focal point in enhancing defense mechanisms and threat detection capabilities.\n",
      "\n",
      "## Latest Trends in NIS 2.0 in Germany\n",
      "\n",
      "Recent trends in NIS 2.0 in Germany highlight an increased focus on cybersecurity measures, with organizations prioritizing data protection and privacy regulations. The evolving threat landscape necessitates proactive strategies to prevent cyber attacks and mitigate potential risks. The adoption of advanced technologies such as AI and machine learning enables organizations to strengthen their cybersecurity posture and respond effectively to emerging threats.\n",
      "\n",
      "## Key Players in NIS 2.0 in Germany\n",
      "\n",
      "The Federal Office for Information Security (BSI) plays a pivotal role in shaping cybersecurity policies and implementing NIS 2.0 initiatives in Germany. Leading cybersecurity companies like Siemens and Deutsche Telekom contribute their expertise to enhance digital resilience and protect critical infrastructure. Collaboration with EU agencies and international partners ensures a coordinated approach to cybersecurity challenges and promotes information sharing among stakeholders.\n",
      "\n",
      "## Noteworthy News on NIS 2.0 in Germany\n",
      "\n",
      "Recent data breaches and cyber attacks underscore the importance of robust regulatory frameworks and compliance requirements in NIS 2.0 implementation. Organizations are leveraging success stories to showcase the effectiveness of cybersecurity measures and inspire others to adopt best practices. Stay informed about the latest developments in NIS 2.0 to stay ahead of evolving cyber threats and safeguard your digital assets effectively.\n",
      "\n",
      "## Target Audience Analysis\n",
      "\n",
      "Cybersecurity professionals, IT experts, government officials, and business owners are the primary audience for NIS 2.0 content in Germany. By understanding the latest trends, key players, and regulatory updates, stakeholders can make informed decisions and implement proactive cybersecurity measures. Stay engaged with industry-specific resources and training programs to enhance your cybersecurity knowledge and protect your organization from cyber threats.\n",
      "\n",
      "## Call to Action\n",
      "\n",
      "Stay informed about NIS 2.0 developments by following reputable cybersecurity news sources and industry publications. Promote cybersecurity training and awareness programs within your organization to build a culture of security and resilience. Implement NIS 2.0 measures effectively by leveraging resources and tools available to enhance your cybersecurity capabilities and protect against potential threats.\n",
      "\n",
      "By incorporating SEO keywords such as NIS 2.0 Germany, cybersecurity trends, data protection regulations, cyber attacks prevention, and BSI updates, this blog post aims to provide valuable insights and promote awareness about NIS 2.0 in Germany. Empower yourself and your organization to stay ahead of cyber threats and enhance your cybersecurity posture in an increasingly digital world.\u001b[0m\n",
      "\n",
      "\u001b[1m> Finished chain.\u001b[0m\n",
      "\u001b[1m\u001b[92m [DEBUG]: == [Content Writer] Task output: # NIS 2.0 in Germany: Enhancing Cybersecurity Measures\n",
      "\n",
      "## Introduction\n",
      "\n",
      "In Germany, the National Information Security Strategy (NIS) 2.0 plays a crucial role in safeguarding critical infrastructure and digital assets against cyber threats. With the increasing reliance on digital technologies, the significance of NIS 2.0 cannot be overstated. Key players in this field, including the Federal Office for Information Security (BSI), are working diligently to address the latest trends and challenges in cybersecurity. The integration of AI and machine learning technologies has become a focal point in enhancing defense mechanisms and threat detection capabilities.\n",
      "\n",
      "## Latest Trends in NIS 2.0 in Germany\n",
      "\n",
      "Recent trends in NIS 2.0 in Germany highlight an increased focus on cybersecurity measures, with organizations prioritizing data protection and privacy regulations. The evolving threat landscape necessitates proactive strategies to prevent cyber attacks and mitigate potential risks. The adoption of advanced technologies such as AI and machine learning enables organizations to strengthen their cybersecurity posture and respond effectively to emerging threats.\n",
      "\n",
      "## Key Players in NIS 2.0 in Germany\n",
      "\n",
      "The Federal Office for Information Security (BSI) plays a pivotal role in shaping cybersecurity policies and implementing NIS 2.0 initiatives in Germany. Leading cybersecurity companies like Siemens and Deutsche Telekom contribute their expertise to enhance digital resilience and protect critical infrastructure. Collaboration with EU agencies and international partners ensures a coordinated approach to cybersecurity challenges and promotes information sharing among stakeholders.\n",
      "\n",
      "## Noteworthy News on NIS 2.0 in Germany\n",
      "\n",
      "Recent data breaches and cyber attacks underscore the importance of robust regulatory frameworks and compliance requirements in NIS 2.0 implementation. Organizations are leveraging success stories to showcase the effectiveness of cybersecurity measures and inspire others to adopt best practices. Stay informed about the latest developments in NIS 2.0 to stay ahead of evolving cyber threats and safeguard your digital assets effectively.\n",
      "\n",
      "## Target Audience Analysis\n",
      "\n",
      "Cybersecurity professionals, IT experts, government officials, and business owners are the primary audience for NIS 2.0 content in Germany. By understanding the latest trends, key players, and regulatory updates, stakeholders can make informed decisions and implement proactive cybersecurity measures. Stay engaged with industry-specific resources and training programs to enhance your cybersecurity knowledge and protect your organization from cyber threats.\n",
      "\n",
      "## Call to Action\n",
      "\n",
      "Stay informed about NIS 2.0 developments by following reputable cybersecurity news sources and industry publications. Promote cybersecurity training and awareness programs within your organization to build a culture of security and resilience. Implement NIS 2.0 measures effectively by leveraging resources and tools available to enhance your cybersecurity capabilities and protect against potential threats.\n",
      "\n",
      "By incorporating SEO keywords such as NIS 2.0 Germany, cybersecurity trends, data protection regulations, cyber attacks prevention, and BSI updates, this blog post aims to provide valuable insights and promote awareness about NIS 2.0 in Germany. Empower yourself and your organization to stay ahead of cyber threats and enhance your cybersecurity posture in an increasingly digital world.\n",
      "\n",
      "\u001b[00m\n",
      "\u001b[1m\u001b[95m [DEBUG]: == Working Agent: Editor\u001b[00m\n",
      "\u001b[1m\u001b[95m [INFO]: == Starting Task: Proofread the given blog post for grammatical errors and alignment with the brand's voice.\u001b[00m\n",
      "\n",
      "\n",
      "\u001b[1m> Entering new CrewAgentExecutor chain...\u001b[0m\n",
      "\u001b[32;1m\u001b[1;3mI now can give a great answer\n",
      "\n",
      "Final Answer:\n",
      "# NIS 2.0 in Germany: Enhancing Cybersecurity Measures\n",
      "\n",
      "In Germany, the National Information Security Strategy (NIS) 2.0 plays a crucial role in safeguarding critical infrastructure and digital assets against cyber threats. With the increasing reliance on digital technologies, the significance of NIS 2.0 cannot be overstated. Key players in this field, including the Federal Office for Information Security (BSI), are working diligently to address the latest trends and challenges in cybersecurity. The integration of AI and machine learning technologies has become a focal point in enhancing defense mechanisms and threat detection capabilities.\n",
      "\n",
      "Recent trends in NIS 2.0 in Germany highlight an increased focus on cybersecurity measures, with organizations prioritizing data protection and privacy regulations. The evolving threat landscape necessitates proactive strategies to prevent cyber attacks and mitigate potential risks. The adoption of advanced technologies such as AI and machine learning enables organizations to strengthen their cybersecurity posture and respond effectively to emerging threats.\n",
      "\n",
      "The Federal Office for Information Security (BSI) plays a pivotal role in shaping cybersecurity policies and implementing NIS 2.0 initiatives in Germany. Leading cybersecurity companies like Siemens and Deutsche Telekom contribute their expertise to enhance digital resilience and protect critical infrastructure. Collaboration with EU agencies and international partners ensures a coordinated approach to cybersecurity challenges and promotes information sharing among stakeholders.\n",
      "\n",
      "Recent data breaches and cyber attacks underscore the importance of robust regulatory frameworks and compliance requirements in NIS 2.0 implementation. Organizations are leveraging success stories to showcase the effectiveness of cybersecurity measures and inspire others to adopt best practices. Stay informed about the latest developments in NIS 2.0 to stay ahead of evolving cyber threats and safeguard your digital assets effectively.\n",
      "\n",
      "Cybersecurity professionals, IT experts, government officials, and business owners are the primary audience for NIS 2.0 content in Germany. By understanding the latest trends, key players, and regulatory updates, stakeholders can make informed decisions and implement proactive cybersecurity measures. Stay engaged with industry-specific resources and training programs to enhance your cybersecurity knowledge and protect your organization from cyber threats.\n",
      "\n",
      "Stay informed about NIS 2.0 developments by following reputable cybersecurity news sources and industry publications. Promote cybersecurity training and awareness programs within your organization to build a culture of security and resilience. Implement NIS 2.0 measures effectively by leveraging resources and tools available to enhance your cybersecurity capabilities and protect against potential threats.\n",
      "\n",
      "By incorporating SEO keywords such as NIS 2.0 Germany, cybersecurity trends, data protection regulations, cyber attacks prevention, and BSI updates, this blog post aims to provide valuable insights and promote awareness about NIS 2.0 in Germany. Empower yourself and your organization to stay ahead of cyber threats and enhance your cybersecurity posture in an increasingly digital world.\u001b[0m\n",
      "\n",
      "\u001b[1m> Finished chain.\u001b[0m\n",
      "\u001b[1m\u001b[92m [DEBUG]: == [Editor] Task output: # NIS 2.0 in Germany: Enhancing Cybersecurity Measures\n",
      "\n",
      "In Germany, the National Information Security Strategy (NIS) 2.0 plays a crucial role in safeguarding critical infrastructure and digital assets against cyber threats. With the increasing reliance on digital technologies, the significance of NIS 2.0 cannot be overstated. Key players in this field, including the Federal Office for Information Security (BSI), are working diligently to address the latest trends and challenges in cybersecurity. The integration of AI and machine learning technologies has become a focal point in enhancing defense mechanisms and threat detection capabilities.\n",
      "\n",
      "Recent trends in NIS 2.0 in Germany highlight an increased focus on cybersecurity measures, with organizations prioritizing data protection and privacy regulations. The evolving threat landscape necessitates proactive strategies to prevent cyber attacks and mitigate potential risks. The adoption of advanced technologies such as AI and machine learning enables organizations to strengthen their cybersecurity posture and respond effectively to emerging threats.\n",
      "\n",
      "The Federal Office for Information Security (BSI) plays a pivotal role in shaping cybersecurity policies and implementing NIS 2.0 initiatives in Germany. Leading cybersecurity companies like Siemens and Deutsche Telekom contribute their expertise to enhance digital resilience and protect critical infrastructure. Collaboration with EU agencies and international partners ensures a coordinated approach to cybersecurity challenges and promotes information sharing among stakeholders.\n",
      "\n",
      "Recent data breaches and cyber attacks underscore the importance of robust regulatory frameworks and compliance requirements in NIS 2.0 implementation. Organizations are leveraging success stories to showcase the effectiveness of cybersecurity measures and inspire others to adopt best practices. Stay informed about the latest developments in NIS 2.0 to stay ahead of evolving cyber threats and safeguard your digital assets effectively.\n",
      "\n",
      "Cybersecurity professionals, IT experts, government officials, and business owners are the primary audience for NIS 2.0 content in Germany. By understanding the latest trends, key players, and regulatory updates, stakeholders can make informed decisions and implement proactive cybersecurity measures. Stay engaged with industry-specific resources and training programs to enhance your cybersecurity knowledge and protect your organization from cyber threats.\n",
      "\n",
      "Stay informed about NIS 2.0 developments by following reputable cybersecurity news sources and industry publications. Promote cybersecurity training and awareness programs within your organization to build a culture of security and resilience. Implement NIS 2.0 measures effectively by leveraging resources and tools available to enhance your cybersecurity capabilities and protect against potential threats.\n",
      "\n",
      "By incorporating SEO keywords such as NIS 2.0 Germany, cybersecurity trends, data protection regulations, cyber attacks prevention, and BSI updates, this blog post aims to provide valuable insights and promote awareness about NIS 2.0 in Germany. Empower yourself and your organization to stay ahead of cyber threats and enhance your cybersecurity posture in an increasingly digital world.\n",
      "\n",
      "\u001b[00m\n"
     ]
    }
   ],
   "source": [
    "topic = \"NIS 2.0 in Germany\"\n",
    "result = crew.kickoff(inputs={\"topic\": topic})"
   ]
  },
  {
   "cell_type": "code",
   "execution_count": 47,
   "metadata": {
    "height": 30
   },
   "outputs": [
    {
     "data": {
      "text/markdown": [
       "# NIS 2.0 in Germany: Enhancing Cybersecurity Measures\n",
       "\n",
       "In Germany, the National Information Security Strategy (NIS) 2.0 plays a crucial role in safeguarding critical infrastructure and digital assets against cyber threats. With the increasing reliance on digital technologies, the significance of NIS 2.0 cannot be overstated. Key players in this field, including the Federal Office for Information Security (BSI), are working diligently to address the latest trends and challenges in cybersecurity. The integration of AI and machine learning technologies has become a focal point in enhancing defense mechanisms and threat detection capabilities.\n",
       "\n",
       "Recent trends in NIS 2.0 in Germany highlight an increased focus on cybersecurity measures, with organizations prioritizing data protection and privacy regulations. The evolving threat landscape necessitates proactive strategies to prevent cyber attacks and mitigate potential risks. The adoption of advanced technologies such as AI and machine learning enables organizations to strengthen their cybersecurity posture and respond effectively to emerging threats.\n",
       "\n",
       "The Federal Office for Information Security (BSI) plays a pivotal role in shaping cybersecurity policies and implementing NIS 2.0 initiatives in Germany. Leading cybersecurity companies like Siemens and Deutsche Telekom contribute their expertise to enhance digital resilience and protect critical infrastructure. Collaboration with EU agencies and international partners ensures a coordinated approach to cybersecurity challenges and promotes information sharing among stakeholders.\n",
       "\n",
       "Recent data breaches and cyber attacks underscore the importance of robust regulatory frameworks and compliance requirements in NIS 2.0 implementation. Organizations are leveraging success stories to showcase the effectiveness of cybersecurity measures and inspire others to adopt best practices. Stay informed about the latest developments in NIS 2.0 to stay ahead of evolving cyber threats and safeguard your digital assets effectively.\n",
       "\n",
       "Cybersecurity professionals, IT experts, government officials, and business owners are the primary audience for NIS 2.0 content in Germany. By understanding the latest trends, key players, and regulatory updates, stakeholders can make informed decisions and implement proactive cybersecurity measures. Stay engaged with industry-specific resources and training programs to enhance your cybersecurity knowledge and protect your organization from cyber threats.\n",
       "\n",
       "Stay informed about NIS 2.0 developments by following reputable cybersecurity news sources and industry publications. Promote cybersecurity training and awareness programs within your organization to build a culture of security and resilience. Implement NIS 2.0 measures effectively by leveraging resources and tools available to enhance your cybersecurity capabilities and protect against potential threats.\n",
       "\n",
       "By incorporating SEO keywords such as NIS 2.0 Germany, cybersecurity trends, data protection regulations, cyber attacks prevention, and BSI updates, this blog post aims to provide valuable insights and promote awareness about NIS 2.0 in Germany. Empower yourself and your organization to stay ahead of cyber threats and enhance your cybersecurity posture in an increasingly digital world."
      ],
      "text/plain": [
       "<IPython.core.display.Markdown object>"
      ]
     },
     "execution_count": 47,
     "metadata": {},
     "output_type": "execute_result"
    }
   ],
   "source": [
    "Markdown(result)"
   ]
  },
  {
   "cell_type": "markdown",
   "metadata": {},
   "source": [
    "<a name='1'></a>\n",
    " ## Other Popular Models as LLM for your Agents"
   ]
  },
  {
   "cell_type": "markdown",
   "metadata": {},
   "source": [
    "#### Hugging Face (HuggingFaceHub endpoint)\n",
    "\n",
    "```Python\n",
    "from langchain_community.llms import HuggingFaceHub\n",
    "\n",
    "llm = HuggingFaceHub(\n",
    "    repo_id=\"HuggingFaceH4/zephyr-7b-beta\",\n",
    "    huggingfacehub_api_token=\"<HF_TOKEN_HERE>\",\n",
    "    task=\"text-generation\",\n",
    ")\n",
    "\n",
    "### you will pass \"llm\" to your agent function\n",
    "```"
   ]
  },
  {
   "cell_type": "markdown",
   "metadata": {},
   "source": [
    "#### Mistral API\n",
    "\n",
    "```Python\n",
    "OPENAI_API_KEY=your-mistral-api-key\n",
    "OPENAI_API_BASE=https://api.mistral.ai/v1\n",
    "OPENAI_MODEL_NAME=\"mistral-small\"\n",
    "```"
   ]
  },
  {
   "cell_type": "markdown",
   "metadata": {},
   "source": [
    "#### Cohere\n",
    "\n",
    "```Python\n",
    "from langchain_community.chat_models import ChatCohere\n",
    "# Initialize language model\n",
    "os.environ[\"COHERE_API_KEY\"] = \"your-cohere-api-key\"\n",
    "llm = ChatCohere()\n",
    "\n",
    "### you will pass \"llm\" to your agent function\n",
    "```"
   ]
  },
  {
   "cell_type": "markdown",
   "metadata": {},
   "source": [
    "### For using Llama locally with Ollama and more, checkout the crewAI documentation on [Connecting to any LLM](https://docs.crewai.com/how-to/LLM-Connections/)."
   ]
  },
  {
   "cell_type": "code",
   "execution_count": null,
   "metadata": {
    "height": 30
   },
   "outputs": [],
   "source": []
  },
  {
   "cell_type": "code",
   "execution_count": null,
   "metadata": {
    "height": 30
   },
   "outputs": [],
   "source": []
  },
  {
   "cell_type": "code",
   "execution_count": null,
   "metadata": {
    "height": 30
   },
   "outputs": [],
   "source": []
  }
 ],
 "metadata": {
  "colab": {
   "gpuType": "T4",
   "provenance": []
  },
  "kernelspec": {
   "display_name": "Python 3 (ipykernel)",
   "language": "python",
   "name": "python3"
  },
  "language_info": {
   "codemirror_mode": {
    "name": "ipython",
    "version": 3
   },
   "file_extension": ".py",
   "mimetype": "text/x-python",
   "name": "python",
   "nbconvert_exporter": "python",
   "pygments_lexer": "ipython3",
   "version": "3.10.11"
  }
 },
 "nbformat": 4,
 "nbformat_minor": 4
}
